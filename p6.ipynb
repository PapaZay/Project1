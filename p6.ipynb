{
 "cells": [
  {
   "cell_type": "code",
   "execution_count": 5,
   "id": "1765b340",
   "metadata": {},
   "outputs": [
    {
     "name": "stderr",
     "output_type": "stream",
     "text": [
      "IOPub data rate exceeded.\n",
      "The notebook server will temporarily stop sending output\n",
      "to the client in order to avoid crashing it.\n",
      "To change this limit, set the config variable\n",
      "`--NotebookApp.iopub_data_rate_limit`.\n",
      "\n",
      "Current values:\n",
      "NotebookApp.iopub_data_rate_limit=1000000.0 (bytes/sec)\n",
      "NotebookApp.rate_limit_window=3.0 (secs)\n",
      "\n"
     ]
    }
   ],
   "source": [
    "import sys\n",
    "\n",
    "def read_sequences_from_file(file_path, min_length):\n",
    "    sequences = []\n",
    "    with open(file_path, 'r') as file:\n",
    "        current_sequence = \"\"\n",
    "        for line in file:\n",
    "            line = line.strip().upper()  # converts to uppercase\n",
    "            if line.startswith('>'):\n",
    "                if current_sequence and len(current_sequence) >= min_length:\n",
    "                    sequences.append(current_sequence)\n",
    "                current_sequence = \"\"\n",
    "            else:\n",
    "                current_sequence += line\n",
    "        if current_sequence and len(current_sequence) >= min_length:  # add the last sequence if it meets the length requirement\n",
    "            sequences.append(current_sequence)\n",
    "    return sequences\n",
    "\n",
    "def determine_optimal_length(sequences):\n",
    "    max_length = max(len(seq) for seq in sequences)\n",
    "    return max_length\n",
    "\n",
    "def format_sequences(sequences, optimal_length):\n",
    "    formatted_sequences = []\n",
    "    for seq in sequences:\n",
    "        # trim sequences\n",
    "        formatted_seq = seq[:optimal_length]\n",
    "        formatted_sequences.append(formatted_seq)\n",
    "    return formatted_sequences\n",
    "\n",
    "def write_sequences_to_file(formatted_sequences, output_file):\n",
    "    with open(output_file, 'w') as file:\n",
    "        for i, seq in enumerate(formatted_sequences, 1):\n",
    "            file.write(f\"Sequence: {i}\\n\")\n",
    "            file.write(seq + '\\n')\n",
    "\n",
    "def main():\n",
    "    if len(sys.argv) != 4:\n",
    "        print(\"Formatt: python3 script.py inputfile.txt outputfile.txt minimum_sequence_length\")\n",
    "        return\n",
    "\n",
    "    input_file = sys.argv[1]\n",
    "    output_file = sys.argv[2]\n",
    "    min_length = int(sys.argv[3])\n",
    "\n",
    "    sequences = read_sequences_from_file(input_file, min_length)\n",
    "    if not sequences:\n",
    "        print(\"No sequences found in the file or all sequences are shorter than the specified minimum length.\")\n",
    "        return\n",
    "\n",
    "    optimal_length = determine_optimal_length(sequences)\n",
    "    formatted_sequences = format_sequences(sequences, optimal_length)\n",
    "\n",
    "    write_sequences_to_file(formatted_sequences, output_file)\n",
    "    print(f\"Formatted sequences have been written to {output_file}.\")\n",
    "\n",
    "if __name__ == \"__main__\":\n",
    "    main()\n",
    "\n",
    "  "
   ]
  },
  {
   "cell_type": "code",
   "execution_count": null,
   "id": "926459b6",
   "metadata": {},
   "outputs": [],
   "source": []
  }
 ],
 "metadata": {
  "kernelspec": {
   "display_name": "Python [conda env:bcd] *",
   "language": "python",
   "name": "conda-env-bcd-py"
  },
  "language_info": {
   "codemirror_mode": {
    "name": "ipython",
    "version": 3
   },
   "file_extension": ".py",
   "mimetype": "text/x-python",
   "name": "python",
   "nbconvert_exporter": "python",
   "pygments_lexer": "ipython3",
   "version": "3.9.18"
  }
 },
 "nbformat": 4,
 "nbformat_minor": 5
}
