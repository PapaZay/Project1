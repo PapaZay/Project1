{
 "cells": [
  {
   "cell_type": "code",
   "execution_count": null,
   "id": "17ed0d75",
   "metadata": {},
   "outputs": [],
   "source": [
    "import sys\n",
    "\n",
    "def generate_negative_bed(positive_bed_file, negative_bed_file):\n",
    "    with open(positive_bed_file, 'r') as positive_file, open(negative_bed_file, 'w') as negative_file:\n",
    "        previous_end = None\n",
    "        for line in positive_file:\n",
    "            fields = line.strip().split('\\t')\n",
    "            chrom, start, end = fields[:3]\n",
    "            start = int(start)\n",
    "            end = int(end)\n",
    "\n",
    "            if previous_end is not None:\n",
    "                # make sure start position is less than end position\n",
    "                if previous_end >= start:\n",
    "                    continue\n",
    "\n",
    "                # calculate neg coordinates\n",
    "                negative_start = previous_end + 1\n",
    "                negative_end = end - 1\n",
    "                if negative_start < negative_end:\n",
    "                    negative_file.write(f\"{chrom}\\t{negative_start}\\t{negative_end}\\t.\\t0\\t.\\n\")\n",
    "\n",
    "            previous_end = end\n",
    "\n",
    "if __name__ == \"__main__\":\n",
    "    if len(sys.argv) != 3:\n",
    "        print(\"Formatt: python3 script.py positive_bed_file.bed negative_bed_file.bed\")\n",
    "        sys.exit(1)\n",
    "\n",
    "    positive_bed_file = sys.argv[1]\n",
    "    negative_bed_file = sys.argv[2]\n",
    "    generate_negative_bed(positive_bed_file, negative_bed_file)\n",
    "    print(\"Negative BED file generated successfully.\")\n"
   ]
  }
 ],
 "metadata": {
  "kernelspec": {
   "display_name": "Python [conda env:bcd] *",
   "language": "python",
   "name": "conda-env-bcd-py"
  },
  "language_info": {
   "codemirror_mode": {
    "name": "ipython",
    "version": 3
   },
   "file_extension": ".py",
   "mimetype": "text/x-python",
   "name": "python",
   "nbconvert_exporter": "python",
   "pygments_lexer": "ipython3",
   "version": "3.9.18"
  }
 },
 "nbformat": 4,
 "nbformat_minor": 5
}
